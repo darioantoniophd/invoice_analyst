{
  "cells": [
    {
      "cell_type": "code",
      "execution_count": 11,
      "metadata": {
        "colab": {
          "base_uri": "https://localhost:8080/"
        },
        "id": "-BuHZ38MhjzH",
        "outputId": "0785dd20-2c82-40c1-90b8-f9fc5b1b9675"
      },
      "outputs": [],
      "source": [
        "from dotenv import load_dotenv\n",
        "import os\n",
        "\n",
        "load_dotenv(\"/home/dario/Dropbox/ai/key.env\",override=True)\n",
        "os.environ['OPENAI_API_KEY'] = os.environ.get(\"INVOICE_ANALYST_OPENAI_KEY\")\n",
        "os.environ['LLAMA_CLOUD_API_KEY'] = os.environ.get(\"INVOICE_ANALYST_LLAMAPARSE_KEY\")\n"
      ]
    },
    {
      "cell_type": "code",
      "execution_count": 6,
      "metadata": {},
      "outputs": [],
      "source": [
        "import PyPDF2\n",
        "\n",
        "def process_pdfs(directory):\n",
        "    \"\"\"\n",
        "    Process all PDF files in the specified directory, replacing each file with a new version containing only the first page.\n",
        "\n",
        "    Args:\n",
        "       directory (str): The directory to process.\n",
        "\n",
        "    Returns:\n",
        "       None\n",
        "    \"\"\"\n",
        "    # Iterate through all files in the specified directory\n",
        "    # List all files in the directory\n",
        "    \n",
        "\n",
        "    for filename in os.listdir(directory):\n",
        "        # Check if the file is a PDF\n",
        "        if filename.endswith(\".pdf\"):\n",
        "            filepath = os.path.join(directory, filename)\n",
        "            \n",
        "            # Open the PDF file\n",
        "            with open(filepath, \"rb\") as file:\n",
        "                reader = PyPDF2.PdfReader(file)\n",
        "                \n",
        "                # Check if the PDF has more than one page\n",
        "                if len(reader.pages) > 1:\n",
        "                    # Extract the first page\n",
        "                    first_page = reader.pages[0]\n",
        "                    \n",
        "                    # Create a PDF writer object and add the first page\n",
        "                    writer = PyPDF2.PdfWriter()\n",
        "                    writer.add_page(first_page)\n",
        "                    \n",
        "                    # Write the new PDF back to the same file, replacing the original\n",
        "                    with open(filepath, \"wb\") as new_file:\n",
        "                        writer.write(new_file)\n",
        "\n",
        "                    print(f\"Processed {filename}: Original replaced with first page only.\")\n",
        "                else:\n",
        "                    print(f\"{filename} has only one page or is empty. No changes made.\")\n",
        "\n"
      ]
    },
    {
      "cell_type": "code",
      "execution_count": 9,
      "metadata": {},
      "outputs": [
        {
          "name": "stdout",
          "output_type": "stream",
          "text": [
            "super_oficina.pdf has only one page or is empty. No changes made.\n",
            "FA-2-19346.pdf has only one page or is empty. No changes made.\n",
            "27345649137_011_00003_00000022.pdf has only one page or is empty. No changes made.\n",
            "FA-2-19504.pdf has only one page or is empty. No changes made.\n",
            "27328814949_011_00002_00000057.pdf has only one page or is empty. No changes made.\n",
            "F Aguilar 27345649137_011_00003_00000023.pdf has only one page or is empty. No changes made.\n",
            "la anonima.pdf has only one page or is empty. No changes made.\n",
            "98431 62558 MZP Tecnologia SAU.pdf has only one page or is empty. No changes made.\n",
            "micaela_testa.pdf has only one page or is empty. No changes made.\n",
            "nafta.pdf has only one page or is empty. No changes made.\n",
            "nafta2.pdf has only one page or is empty. No changes made.\n",
            "contadora.pdf has only one page or is empty. No changes made.\n",
            "27387838436_011_00001_00000016.pdf has only one page or is empty. No changes made.\n",
            "bari wireless FA-2-19177.pdf has only one page or is empty. No changes made.\n",
            "27328814949_011_00002_00000059.pdf has only one page or is empty. No changes made.\n"
          ]
        }
      ],
      "source": [
        "# Specify the directory containing PDFs\n",
        "pdf_directory = \"/home/dario/Dropbox/ai/invoice_analyst/facturas\"\n",
        "process_pdfs(pdf_directory)\n"
      ]
    },
    {
      "cell_type": "markdown",
      "metadata": {},
      "source": [
        "### Docs:\n",
        "\n",
        "https://docs.llamaindex.ai/en/stable/module_guides/loading/connector/llama_parse/"
      ]
    },
    {
      "cell_type": "code",
      "execution_count": 12,
      "metadata": {},
      "outputs": [
        {
          "name": "stdout",
          "output_type": "stream",
          "text": [
            "Started parsing the file under job_id 17f16d04-a625-44cb-8822-a84ca1010e9a\n",
            "Started parsing the file under job_id 2c595cb3-c207-407e-85cb-45d8e941f3f8\n",
            "Started parsing the file under job_id 3bcd1df4-eb8d-4251-93e2-501306744457\n",
            "Started parsing the file under job_id 6a2bc280-e7a7-493a-8997-1137d2a71d7c\n",
            "Started parsing the file under job_id f995a440-a500-4fc5-8db8-4bd3bdce3884\n",
            "Started parsing the file under job_id 9f560a91-b830-4401-b5fe-562fc37d15c6\n",
            "Started parsing the file under job_id b0f8f9ee-cd0a-43bd-838a-7ccaf317d470\n",
            "Started parsing the file under job_id e8a31408-3506-4faf-8313-b3d6419f2a5e\n",
            "Started parsing the file under job_id 48a7313f-e3ce-45ba-9b00-61149d700d06\n",
            "Started parsing the file under job_id 7a8f8094-7927-440d-a4a8-2021c4534993\n",
            "Started parsing the file under job_id 985c8af9-e2ab-498e-953d-7e5dd40bbd95\n",
            "Started parsing the file under job_id 821de539-4924-4981-8451-fffaa5b1ec71\n",
            "Started parsing the file under job_id 07013d32-4b79-4da4-b2c3-24caec358264\n",
            "Started parsing the file under job_id e15d0ffa-7c4f-46f6-b49d-6abe47691d48\n",
            "Started parsing the file under job_id eeb9ec8b-e1d9-4353-846b-5044f5bb764d\n"
          ]
        }
      ],
      "source": [
        "import nest_asyncio\n",
        "\n",
        "nest_asyncio.apply()\n",
        "\n",
        "from llama_parse import LlamaParse\n",
        "from llama_index.core import SimpleDirectoryReader\n",
        "\n",
        "parser = LlamaParse(\n",
        "    result_type=\"markdown\",\n",
        "    verbose=True,\n",
        "    language=\"es\",\n",
        ")\n",
        "\n",
        "file_extractor = {\".pdf\": parser}\n",
        "\n",
        "filename_fn = lambda filename: {\"file_name\": filename}\n",
        "# automatically sets the metadata of each document according to filename_fn\n",
        "documents = SimpleDirectoryReader(\n",
        "    input_dir=pdf_directory, file_extractor=file_extractor, file_metadata=filename_fn, required_exts=[\".pdf\"]\n",
        ").load_data()\n"
      ]
    },
    {
      "cell_type": "markdown",
      "metadata": {
        "id": "P3ZrdM5s5Jd_"
      },
      "source": [
        "Let's look at the output:"
      ]
    },
    {
      "cell_type": "code",
      "execution_count": null,
      "metadata": {
        "colab": {
          "base_uri": "https://localhost:8080/"
        },
        "id": "GHR__3VinSEu",
        "outputId": "9642e716-8fe1-49e3-815c-160c50153511"
      },
      "outputs": [],
      "source": [
        "print(documents[0].text[:1000])\n",
        "#print(documents[3].metadata['file_name'])\n",
        "#os.path.basename(documents[3].metadata['file_name'])"
      ]
    },
    {
      "cell_type": "markdown",
      "metadata": {
        "id": "k1BdkNPy5R37"
      },
      "source": [
        "Right away we can see that some kind of structure is being retained!"
      ]
    },
    {
      "cell_type": "markdown",
      "metadata": {
        "id": "eee3nPrL5mmV"
      },
      "source": [
        "### Docs\n",
        "\n",
        "https://docs.llamaindex.ai/en/stable/examples/llm/openai_json_vs_function_calling/?h=basemodel"
      ]
    },
    {
      "cell_type": "code",
      "execution_count": 14,
      "metadata": {
        "id": "lRD5vth1pV_v"
      },
      "outputs": [],
      "source": [
        "from llama_index.core import Settings\n",
        "from llama_index.program.openai import OpenAIPydanticProgram\n",
        "from llama_index.llms.openai import OpenAI"
      ]
    },
    {
      "cell_type": "code",
      "execution_count": 16,
      "metadata": {},
      "outputs": [],
      "source": [
        "llm = OpenAI(model=\"gpt-3.5-turbo-1106\")"
      ]
    },
    {
      "cell_type": "code",
      "execution_count": 17,
      "metadata": {},
      "outputs": [],
      "source": [
        "from pydantic import BaseModel, Field\n",
        "from typing import List\n",
        "\n",
        "\n",
        "class Invoice(BaseModel):\n",
        "    \"\"\"Data model for an invoice.\"\"\"\n",
        "\n",
        "    date: str = Field(\n",
        "        description=\"Date of the invoice. It can be in the format Day Month Year or Month Day Year or Year Month Day\"\n",
        "    )\n",
        "    name: str = Field(\n",
        "        description=\" Name of the company or the person that issues the invoice. Never use MZP Tecnologia or anything similar to \\\n",
        "        MZP Tecnologia, because this is the name of the buyer. Look for the name of the vendor. \"\n",
        "    )\n",
        "    cuit: str = Field(\n",
        "        description=\"Tax identification number (nsmed CUIT or C.U.I.T.) of the vendor. It has 11 digits\\\n",
        "              that may appear as DDDDDDDDDDD or DD-DDDDDDDD-D, where D is a digit.\\\n",
        "            do not confuse with MZP Tecnologia's cuit which also appears in the invoice and is 30715264249 or 30-71526424-9.\\\n",
        "                 Look for the cuit of the vendor. \"\n",
        "    )\n",
        "    product: str = Field(description=\"Service or product purchased. If there are several items provide the type or category of the product.\")\n",
        "    subtotal: str = Field(description=\"Subtotal amount of the invoice, before adding taxes, it may use a dot or a comma as a decimal separator\")\n",
        "    iva: str = Field(description=\"The IVA refers to the Value Added Tax, it is generally the 21% of the subtotal, it may use a dot or a comma as a decimal separator. Some invoices do not have an iva or the value might be zero\")\n",
        "    other_taxes: str = Field(description=\"Other taxes. They are usually lower than the IVA. A dot or a comma as decimal separators. Some invoices do not have this field.\")\n",
        "    total: str = Field(description=\"The total amount of the invoice. A dot or a comma as decimal separators.\")\n"
      ]
    },
    {
      "cell_type": "code",
      "execution_count": 18,
      "metadata": {},
      "outputs": [],
      "source": [
        "prompt = \"\"\"\\\n",
        "This is an invoice made for MZP Tecnologia, by a vendor. \\\n",
        "Extract the following information: date of the invoice, name of the vendor (it cannot be MZP Tecnologia or anything similar), \\\n",
        "cuit of the vendor (do not confuse with MZP Tecnologia's cuit which is 30715264249 or 30-71526424-9)  \\\n",
        "product purchased (if there are several items provide the type or category of the product),\n",
        "subtotal, iva, other_taxes, and total.\\\n",
        "Invoice: \\\n",
        "\n",
        "{invoice} \\\n",
        "\"\"\""
      ]
    },
    {
      "cell_type": "code",
      "execution_count": 19,
      "metadata": {},
      "outputs": [],
      "source": [
        "program = OpenAIPydanticProgram.from_defaults(\n",
        "    output_cls=Invoice,\n",
        "    prompt_template_str=prompt,\n",
        "    verbose=True,\n",
        ")"
      ]
    },
    {
      "cell_type": "code",
      "execution_count": 20,
      "metadata": {},
      "outputs": [],
      "source": [
        "import csv"
      ]
    },
    {
      "cell_type": "code",
      "execution_count": 21,
      "metadata": {},
      "outputs": [
        {
          "name": "stdout",
          "output_type": "stream",
          "text": [
            "Function call: Invoice with args: {\"date\":\"07/02/2024\",\"name\":\"GARCIA NOELIA SANDRA\",\"cuit\":\"27328814949\",\"product\":\"Honorarios Contables del mes de Enero 2024\",\"subtotal\":\"90000,00\",\"iva\":\"0,00\",\"other_taxes\":\"0,00\",\"total\":\"90000,00\"}\n",
            "Function call: Invoice with args: {\"date\":\"05/03/2024\",\"name\":\"GARCIA NOELIA SANDRA\",\"cuit\":\"27328814949\",\"product\":\"Honorarios contables del mes de Febrero de 2024\",\"subtotal\":\"90000,00\",\"iva\":\"0,00\",\"other_taxes\":\"0,00\",\"total\":\"90000,00\"}\n",
            "Function call: Invoice with args: {\"date\":\"02/01/2024\",\"name\":\"AGUILAR MARIA FERNANDA\",\"cuit\":\"27345649137\",\"product\":\"Servicios profesionales de biotecnología\",\"subtotal\":\"1404381,00\",\"iva\":\"0,00\",\"other_taxes\":\"0,00\",\"total\":\"1404381,00\"}\n",
            "Function call: Invoice with args: {\"date\":\"04/03/2024\",\"name\":\"TESTA MICAELA ANALIA\",\"cuit\":\"27387838436\",\"product\":\"Consultoría en Ingeniería\",\"subtotal\":\"431500,00\",\"iva\":\"0,00\",\"other_taxes\":\"0,00\",\"total\":\"431500,00\"}\n",
            "Function call: Invoice with args: {\"date\":\"01/02/2024\",\"name\":\"LPS LA PERSEVERANCIA SEGUROS\",\"cuit\":\"30500032886\",\"product\":\"PÓLIZA NRO.: 00098431 / ENDOSO: 00062558 / REFACTURACION 0002\",\"subtotal\":\"156314.75\",\"iva\":\"32826.10\",\"other_taxes\":\"156.31\",\"total\":\"207348.10\"}\n",
            "Function call: Invoice with args: {\"date\":\"19/01/2024\",\"name\":\"AGUILAR MARIA FERNANDA\",\"cuit\":\"27345649137\",\"product\":\"Servicios profesionales de biotecnologia\",\"subtotal\":\"2045277,00\",\"iva\":\"0\",\"other_taxes\":\"0,00\",\"total\":\"2045277,00\"}\n",
            "Function call: Invoice with args: {\"date\":\"2024-02-01\",\"name\":\"Bariloche Wireless SRL\",\"cuit\":\"30-70873153-2\",\"product\":\"10part Alquiler Sistema Inalambrico\",\"subtotal\":\"39247.93\",\"iva\":\"8,242.07\",\"other_taxes\":\"\",\"total\":\"47490.00\"}\n",
            "Function call: Invoice with args: {\"date\":\"2024-03-04\",\"name\":\"BARILOCHE WIRELESS SRL\",\"cuit\":\"30-70873153-2\",\"product\":\"10part Alquiler Sistema Inalambrico\",\"subtotal\":\"39247.93\",\"iva\":\"8242.07\",\"other_taxes\":\"\",\"total\":\"47490.00\"}\n",
            "Function call: Invoice with args: {\"date\":\"Enero 2023\",\"name\":\"Bariloche Wireless SRL\",\"cuit\":\"30-70873153-2\",\"product\":\"part Alquiler Sistema Inalambrico\",\"subtotal\":\"35680.99\",\"iva\":\"7493.01\",\"other_taxes\":\"\",\"total\":\"43174.00\"}\n",
            "Function call: Invoice with args: {\"date\":\"12 January 2022\",\"name\":\"Tech Solutions\",\"cuit\":\"20-12345678-9\",\"product\":\"Software License\",\"subtotal\":\"1000.00\",\"iva\":\"210.00\",\"other_taxes\":\"50.00\",\"total\":\"1260.00\"}\n",
            "Function call: Invoice with args: {\"date\":\"10/01/2018\",\"name\":\"La Anonpin? Sucursal 7s\",\"cuit\":\"30715264229\",\"product\":\"BANANA ECUADOR, MANZANA RED FLEGI, YERBA, DURAZNO\",\"subtotal\":\"21383.91\",\"iva\":\"449.99\",\"other_taxes\":\"0\",\"total\":\"21383.91\"}\n",
            "Function call: Invoice with args: {\"date\":\"01/02/2024\",\"name\":\"TESTA MICAELA ANALIA\",\"cuit\":\"27387838436\",\"product\":\"Consultoría en ingeniería\",\"subtotal\":\"423000,00\",\"iva\":\"0,00\",\"other_taxes\":\"0,00\",\"total\":\"423000,00\"}\n",
            "Function call: Invoice with args: {\"date\":\"05/01/2024\",\"name\":\"PUMA ENERGY\",\"cuit\":\"30-701908-9\",\"product\":\"MAX PREMIUM\",\"subtotal\":\"33012.21\",\"iva\":\"6932.56\",\"other_taxes\":\"71.26\",\"total\":\"40016.03\"}\n",
            "Function call: Invoice with args: {\"date\":\"26/01/2024\",\"name\":\"SRLENERGY PUMA\",\"cuit\":\"Mro45151704\",\"product\":\"MAX PReMIuM\",\"subtotal\":\"32997.36\",\"iva\":\"6929.45\",\"other_taxes\":\"71.23\",\"total\":\"39998\"}\n",
            "Function call: Invoice with args: {\"date\":\"17-01-24\",\"name\":\"A JmfortaroRafroniric iàde Rio Megr?EXPORTAloRA De La Patagonia\",\"cuit\":\"30-50673003-8\",\"product\":\"Various products\",\"subtotal\":\"77036.05\",\"iva\":\"16758.15\",\"other_taxes\":\"3519.21\",\"total\":\"50228.53\"}\n",
            "CSV file '/home/dario/Dropbox/ai/invoice_analyst/facturas/output.csv' has been written successfully.\n"
          ]
        }
      ],
      "source": [
        "# Path to the CSV file where the data will be written\n",
        "file_path = pdf_directory+'/output.csv'\n",
        "\n",
        "# Open the file with the context manager\n",
        "with open(file_path, mode='w', newline='') as file:\n",
        "    # Create a CSV writer object\n",
        "    # Here, specify the delimiter and quote character if necessary\n",
        "    writer = csv.writer(file, delimiter=',', quotechar='\"', quoting=csv.QUOTE_MINIMAL)\n",
        "    \n",
        "    # Write the header row\n",
        "    writer.writerow(['Archivo', 'Fecha', 'Nombre', 'CUIT', 'Concepto', 'Subtotal', 'IVA', 'Otros impuestos', 'Total'])\n",
        "    \n",
        "    # Write data rows\n",
        "    for doc in documents:\n",
        "        output = program(invoice=doc.get_content())\n",
        "        writer.writerow([os.path.basename(doc.metadata['file_name']), output.date, output.name, output.cuit.replace('-', ''), output.product, output.subtotal.replace(',', '.'), output.iva.replace(',', '.'), output.other_taxes.replace(',', '.'), output.total.replace(',', '.')])\n",
        "\n",
        "print(f\"CSV file '{file_path}' has been written successfully.\")"
      ]
    },
    {
      "cell_type": "code",
      "execution_count": null,
      "metadata": {},
      "outputs": [],
      "source": []
    }
  ],
  "metadata": {
    "colab": {
      "provenance": []
    },
    "kernelspec": {
      "display_name": "Python 3",
      "name": "python3"
    },
    "language_info": {
      "codemirror_mode": {
        "name": "ipython",
        "version": 3
      },
      "file_extension": ".py",
      "mimetype": "text/x-python",
      "name": "python",
      "nbconvert_exporter": "python",
      "pygments_lexer": "ipython3",
      "version": "3.11.8"
    }
  },
  "nbformat": 4,
  "nbformat_minor": 0
}
